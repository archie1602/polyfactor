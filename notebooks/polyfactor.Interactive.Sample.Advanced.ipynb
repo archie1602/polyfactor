{
 "cells": [
  {
   "cell_type": "code",
   "execution_count": 1,
   "id": "452b007f",
   "metadata": {
    "vscode": {
     "languageId": "csharp"
    }
   },
   "outputs": [
    {
     "data": {
      "text/html": [
       "\r\n",
       "<div>\r\n",
       "    <div id='dotnet-interactive-this-cell-15560.Microsoft.DotNet.Interactive.Http.HttpPort' style='display: none'>\r\n",
       "        The below script needs to be able to find the current output cell; this is an easy method to get it.\r\n",
       "    </div>\r\n",
       "    <script type='text/javascript'>\r\n",
       "async function probeAddresses(probingAddresses) {\r\n",
       "    function timeout(ms, promise) {\r\n",
       "        return new Promise(function (resolve, reject) {\r\n",
       "            setTimeout(function () {\r\n",
       "                reject(new Error('timeout'))\r\n",
       "            }, ms)\r\n",
       "            promise.then(resolve, reject)\r\n",
       "        })\r\n",
       "    }\r\n",
       "\r\n",
       "    if (Array.isArray(probingAddresses)) {\r\n",
       "        for (let i = 0; i < probingAddresses.length; i++) {\r\n",
       "\r\n",
       "            let rootUrl = probingAddresses[i];\r\n",
       "\r\n",
       "            if (!rootUrl.endsWith('/')) {\r\n",
       "                rootUrl = `${rootUrl}/`;\r\n",
       "            }\r\n",
       "\r\n",
       "            try {\r\n",
       "                let response = await timeout(1000, fetch(`${rootUrl}discovery`, {\r\n",
       "                    method: 'POST',\r\n",
       "                    cache: 'no-cache',\r\n",
       "                    mode: 'cors',\r\n",
       "                    timeout: 1000,\r\n",
       "                    headers: {\r\n",
       "                        'Content-Type': 'text/plain'\r\n",
       "                    },\r\n",
       "                    body: probingAddresses[i]\r\n",
       "                }));\r\n",
       "\r\n",
       "                if (response.status == 200) {\r\n",
       "                    return rootUrl;\r\n",
       "                }\r\n",
       "            }\r\n",
       "            catch (e) { }\r\n",
       "        }\r\n",
       "    }\r\n",
       "}\r\n",
       "\r\n",
       "function loadDotnetInteractiveApi() {\r\n",
       "    probeAddresses([\"http://192.168.0.246:1004/\", \"http://172.21.240.1:1004/\", \"http://127.0.0.1:1004/\"])\r\n",
       "        .then((root) => {\r\n",
       "        // use probing to find host url and api resources\r\n",
       "        // load interactive helpers and language services\r\n",
       "        let dotnetInteractiveRequire = require.config({\r\n",
       "        context: '15560.Microsoft.DotNet.Interactive.Http.HttpPort',\r\n",
       "                paths:\r\n",
       "            {\r\n",
       "                'dotnet-interactive': `${root}resources`\r\n",
       "                }\r\n",
       "        }) || require;\r\n",
       "\r\n",
       "            window.dotnetInteractiveRequire = dotnetInteractiveRequire;\r\n",
       "\r\n",
       "            window.configureRequireFromExtension = function(extensionName, extensionCacheBuster) {\r\n",
       "                let paths = {};\r\n",
       "                paths[extensionName] = `${root}extensions/${extensionName}/resources/`;\r\n",
       "                \r\n",
       "                let internalRequire = require.config({\r\n",
       "                    context: extensionCacheBuster,\r\n",
       "                    paths: paths,\r\n",
       "                    urlArgs: `cacheBuster=${extensionCacheBuster}`\r\n",
       "                    }) || require;\r\n",
       "\r\n",
       "                return internalRequire\r\n",
       "            };\r\n",
       "        \r\n",
       "            dotnetInteractiveRequire([\r\n",
       "                    'dotnet-interactive/dotnet-interactive'\r\n",
       "                ],\r\n",
       "                function (dotnet) {\r\n",
       "                    dotnet.init(window);\r\n",
       "                },\r\n",
       "                function (error) {\r\n",
       "                    console.log(error);\r\n",
       "                }\r\n",
       "            );\r\n",
       "        })\r\n",
       "        .catch(error => {console.log(error);});\r\n",
       "    }\r\n",
       "\r\n",
       "// ensure `require` is available globally\r\n",
       "if ((typeof(require) !==  typeof(Function)) || (typeof(require.config) !== typeof(Function))) {\r\n",
       "    let require_script = document.createElement('script');\r\n",
       "    require_script.setAttribute('src', 'https://cdnjs.cloudflare.com/ajax/libs/require.js/2.3.6/require.min.js');\r\n",
       "    require_script.setAttribute('type', 'text/javascript');\r\n",
       "    \r\n",
       "    \r\n",
       "    require_script.onload = function() {\r\n",
       "        loadDotnetInteractiveApi();\r\n",
       "    };\r\n",
       "\r\n",
       "    document.getElementsByTagName('head')[0].appendChild(require_script);\r\n",
       "}\r\n",
       "else {\r\n",
       "    loadDotnetInteractiveApi();\r\n",
       "}\r\n",
       "\r\n",
       "    </script>\r\n",
       "</div>"
      ]
     },
     "metadata": {},
     "output_type": "display_data"
    },
    {
     "data": {
      "text/html": [
       "<div><div><strong>Restore sources</strong><ul><li><span>C:\\Users\\archie\\Desktop\\MainDir\\Desktop\\CodeProjs\\CSharp\\dotnet\\polyfactor\\polyfactor\\bin\\Release</span></li></ul></div><div></div><div><strong>Installed Packages</strong><ul><li><span>polyfactor, 1.0.0</span></li></ul></div></div>"
      ]
     },
     "metadata": {},
     "output_type": "display_data"
    },
    {
     "data": {
      "text/markdown": [
       "Loading extension script from `C:\\Users\\archie\\.nuget\\packages\\polyfactor\\1.0.0\\interactive-extensions\\dotnet\\extension.dib`"
      ]
     },
     "metadata": {},
     "output_type": "display_data"
    }
   ],
   "source": [
    "#r \"nuget:polyfactor, 1.0.0\""
   ]
  },
  {
   "cell_type": "code",
   "execution_count": 2,
   "id": "1809d132",
   "metadata": {
    "vscode": {
     "languageId": "csharp"
    }
   },
   "outputs": [],
   "source": [
    "using polyfactor;"
   ]
  },
  {
   "cell_type": "code",
   "execution_count": 3,
   "id": "5e04b4fe",
   "metadata": {
    "vscode": {
     "languageId": "csharp"
    }
   },
   "outputs": [],
   "source": [
    "// create Galois field of order 23 with enabled 'field' checking\n",
    "var gf23 = new GF(23);"
   ]
  },
  {
   "cell_type": "code",
   "execution_count": 4,
   "id": "573257b7",
   "metadata": {
    "vscode": {
     "languageId": "csharp"
    }
   },
   "outputs": [
    {
     "data": {
      "text/html": [
       "\r\n",
       "    <script src='https://polyfill.io/v3/polyfill.min.js?features=es6'></script>\r\n",
       "    <script id='MathJax-script' async src='https://cdn.jsdelivr.net/npm/mathjax@3/es5/tex-mml-chtml.js'></script>\r\n",
       "    \\[GF\\left(23\\right)\\]"
      ]
     },
     "execution_count": 4,
     "metadata": {},
     "output_type": "execute_result"
    }
   ],
   "source": [
    "gf23"
   ]
  },
  {
   "cell_type": "code",
   "execution_count": 5,
   "id": "7129b229",
   "metadata": {
    "vscode": {
     "languageId": "csharp"
    }
   },
   "outputs": [
    {
     "name": "stdout",
     "output_type": "stream",
     "text": [
      "Error: The GF(9) isn't a Galois field, because there is no inverse for 3\r\n"
     ]
    }
   ],
   "source": [
    "// trying to create ring Z/9Z with enabled 'field' checking:\n",
    "// => its should throw an exception\n",
    "\n",
    "try\n",
    "{\n",
    "    var gf9 = new GF(9);\n",
    "}\n",
    "catch (Exception exc)\n",
    "{\n",
    "    Console.WriteLine($\"Error: {exc.Message}\");\n",
    "}"
   ]
  },
  {
   "cell_type": "code",
   "execution_count": 6,
   "id": "a8f65910",
   "metadata": {
    "vscode": {
     "languageId": "csharp"
    }
   },
   "outputs": [],
   "source": [
    "// create Galois field of order 7 with disable 'field' checking\n",
    "// => in this case, the field is created much faster, because there are no checks\n",
    "var gf7 = new GF(7, false);"
   ]
  },
  {
   "cell_type": "code",
   "execution_count": 7,
   "id": "8f15d11b",
   "metadata": {
    "vscode": {
     "languageId": "csharp"
    }
   },
   "outputs": [],
   "source": [
    "// create ring Z/14Z with disable 'field' checking\n",
    "// => in this case, no exceptions will be thrown, but further work with this field may lead to unexpected behavior\n",
    "// => the user shouldn't allow such cases\n",
    "var gf14 = new GF(14, false);"
   ]
  },
  {
   "cell_type": "code",
   "execution_count": 8,
   "id": "753ee81b",
   "metadata": {
    "vscode": {
     "languageId": "csharp"
    }
   },
   "outputs": [],
   "source": [
    "// create polynomial over GF(23)\n",
    "var pol = new GFPoly(gf23, new ulong[] { 9, 6, 19, 4, 19, 1, 21, 3, 11, 20, 19, 3, 17, 6, 20 });"
   ]
  },
  {
   "cell_type": "code",
   "execution_count": 9,
   "id": "adc1775f",
   "metadata": {
    "vscode": {
     "languageId": "csharp"
    }
   },
   "outputs": [
    {
     "data": {
      "text/html": [
       "\r\n",
       "    <script src='https://polyfill.io/v3/polyfill.min.js?features=es6'></script>\r\n",
       "    <script id='MathJax-script' async src='https://cdn.jsdelivr.net/npm/mathjax@3/es5/tex-mml-chtml.js'></script>\r\n",
       "    \\[20{x}^{14}+6{x}^{13}+17{x}^{12}+3{x}^{11}+19{x}^{10}+20{x}^{9}+11{x}^{8}+3{x}^{7}+21{x}^{6}+{x}^{5}+19{x}^{4}+4{x}^{3}+19{x}^{2}+6x+9\\]"
      ]
     },
     "execution_count": 9,
     "metadata": {},
     "output_type": "execute_result"
    }
   ],
   "source": [
    "pol"
   ]
  },
  {
   "cell_type": "code",
   "execution_count": 10,
   "id": "b6f0ccc3",
   "metadata": {
    "vscode": {
     "languageId": "csharp"
    }
   },
   "outputs": [
    {
     "data": {
      "text/html": [
       "\r\n",
       "    <script src='https://polyfill.io/v3/polyfill.min.js?features=es6'></script>\r\n",
       "    <script id='MathJax-script' async src='https://cdn.jsdelivr.net/npm/mathjax@3/es5/tex-mml-chtml.js'></script>\r\n",
       "    \\[20\\left(x+1\\right)^{2}\\left(x+7\\right)\\left(x+16\\right)^{3}\\left({x}^{2}+1\\right)\\left({x}^{2}+22x+1\\right)^{2}\\left({x}^{2}+12x+8\\right)\\]"
      ]
     },
     "execution_count": 10,
     "metadata": {},
     "output_type": "execute_result"
    }
   ],
   "source": [
    "// factor polynomial over GF(23) using default args\n",
    "pol.Factor()"
   ]
  },
  {
   "cell_type": "code",
   "execution_count": 11,
   "id": "4d31e63a",
   "metadata": {
    "vscode": {
     "languageId": "csharp"
    }
   },
   "outputs": [
    {
     "data": {
      "text/html": [
       "\r\n",
       "    <script src='https://polyfill.io/v3/polyfill.min.js?features=es6'></script>\r\n",
       "    <script id='MathJax-script' async src='https://cdn.jsdelivr.net/npm/mathjax@3/es5/tex-mml-chtml.js'></script>\r\n",
       "    \\[20\\left(x+1\\right)^{2}\\left(x+7\\right)\\left(x+16\\right)^{3}\\left({x}^{2}+1\\right)\\left({x}^{2}+22x+1\\right)^{2}\\left({x}^{2}+12x+8\\right)\\]"
      ]
     },
     "execution_count": 11,
     "metadata": {},
     "output_type": "execute_result"
    }
   ],
   "source": [
    "// factor polynomial over GF(23) using 'Berlekamp' method with enabled factor sorting\n",
    "pol.Factor(FactorMethod.Berlekamp)"
   ]
  },
  {
   "cell_type": "code",
   "execution_count": 12,
   "id": "e48b4046",
   "metadata": {
    "vscode": {
     "languageId": "csharp"
    }
   },
   "outputs": [
    {
     "data": {
      "text/html": [
       "\r\n",
       "    <script src='https://polyfill.io/v3/polyfill.min.js?features=es6'></script>\r\n",
       "    <script id='MathJax-script' async src='https://cdn.jsdelivr.net/npm/mathjax@3/es5/tex-mml-chtml.js'></script>\r\n",
       "    \\[20\\left(x+1\\right)^{2}\\left(x+7\\right)\\left(x+16\\right)^{3}\\left({x}^{2}+1\\right)\\left({x}^{2}+22x+1\\right)^{2}\\left({x}^{2}+12x+8\\right)\\]"
      ]
     },
     "execution_count": 12,
     "metadata": {},
     "output_type": "execute_result"
    }
   ],
   "source": [
    "// factor polynomial over GF(23) using 'CantorZassenhaus' method with enabled factor sorting\n",
    "pol.Factor(FactorMethod.CantorZassenhaus)"
   ]
  },
  {
   "cell_type": "code",
   "execution_count": 13,
   "id": "c274edea",
   "metadata": {
    "vscode": {
     "languageId": "csharp"
    }
   },
   "outputs": [
    {
     "data": {
      "text/html": [
       "\r\n",
       "    <script src='https://polyfill.io/v3/polyfill.min.js?features=es6'></script>\r\n",
       "    <script id='MathJax-script' async src='https://cdn.jsdelivr.net/npm/mathjax@3/es5/tex-mml-chtml.js'></script>\r\n",
       "    \\[20\\left(x+1\\right)^{2}\\left(x+7\\right)\\left(x+16\\right)^{3}\\left({x}^{2}+1\\right)\\left({x}^{2}+22x+1\\right)^{2}\\left({x}^{2}+12x+8\\right)\\]"
      ]
     },
     "execution_count": 13,
     "metadata": {},
     "output_type": "execute_result"
    }
   ],
   "source": [
    "// factor polynomial over GF(23) using 'KaltofenShoup' method with enabled factor sorting\n",
    "pol.Factor(FactorMethod.KaltofenShoup)"
   ]
  },
  {
   "cell_type": "code",
   "execution_count": 14,
   "id": "b77a2cbf",
   "metadata": {
    "vscode": {
     "languageId": "csharp"
    }
   },
   "outputs": [
    {
     "data": {
      "text/html": [
       "\r\n",
       "    <script src='https://polyfill.io/v3/polyfill.min.js?features=es6'></script>\r\n",
       "    <script id='MathJax-script' async src='https://cdn.jsdelivr.net/npm/mathjax@3/es5/tex-mml-chtml.js'></script>\r\n",
       "    \\[20\\left(x+1\\right)^{2}\\left({x}^{2}+22x+1\\right)^{2}\\left(x+7\\right)\\left({x}^{2}+12x+8\\right)\\left({x}^{2}+1\\right)\\left(x+16\\right)^{3}\\]"
      ]
     },
     "execution_count": 14,
     "metadata": {},
     "output_type": "execute_result"
    }
   ],
   "source": [
    "// factor polynomial over GF(23) using 'CantorZassenhaus' method with disabled factor sorting\n",
    "// => now this method should return the factors in a different order from time to time,\n",
    "// since 'CantorZassenhaus' method is probabilistic\n",
    "pol.Factor(FactorMethod.CantorZassenhaus, false)"
   ]
  },
  {
   "cell_type": "code",
   "execution_count": 15,
   "id": "07826fea",
   "metadata": {
    "vscode": {
     "languageId": "csharp"
    }
   },
   "outputs": [
    {
     "data": {
      "text/html": [
       "\r\n",
       "    <script src='https://polyfill.io/v3/polyfill.min.js?features=es6'></script>\r\n",
       "    <script id='MathJax-script' async src='https://cdn.jsdelivr.net/npm/mathjax@3/es5/tex-mml-chtml.js'></script>\r\n",
       "    \\[20\\left(x+1\\right)^{2}\\left({x}^{2}+22x+1\\right)^{2}\\left(x+7\\right)\\left({x}^{2}+12x+8\\right)\\left({x}^{2}+1\\right)\\left(x+16\\right)^{3}\\]"
      ]
     },
     "execution_count": 15,
     "metadata": {},
     "output_type": "execute_result"
    }
   ],
   "source": [
    "// factor polynomial over GF(23) using 'KaltofenShoup' method with disabled factor sorting\n",
    "// => now this method should return the factors in a different order from time to time,\n",
    "// since 'KaltofenShoup' method is probabilistic\n",
    "pol.Factor(FactorMethod.KaltofenShoup, false)"
   ]
  }
 ],
 "metadata": {
  "kernelspec": {
   "display_name": ".NET (C#)",
   "language": "C#",
   "name": ".net-csharp"
  },
  "language_info": {
   "file_extension": ".cs",
   "mimetype": "text/x-csharp",
   "name": "C#",
   "pygments_lexer": "csharp",
   "version": "9.0"
  }
 },
 "nbformat": 4,
 "nbformat_minor": 5
}
