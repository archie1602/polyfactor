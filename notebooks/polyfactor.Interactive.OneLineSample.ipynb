{
 "cells": [
  {
   "cell_type": "code",
   "execution_count": 1,
   "id": "e996b963",
   "metadata": {
    "scrolled": true,
    "vscode": {
     "languageId": "csharp"
    }
   },
   "outputs": [
    {
     "data": {
      "text/html": [
       "\r\n",
       "<div>\r\n",
       "    <div id='dotnet-interactive-this-cell-13304.Microsoft.DotNet.Interactive.Http.HttpPort' style='display: none'>\r\n",
       "        The below script needs to be able to find the current output cell; this is an easy method to get it.\r\n",
       "    </div>\r\n",
       "    <script type='text/javascript'>\r\n",
       "async function probeAddresses(probingAddresses) {\r\n",
       "    function timeout(ms, promise) {\r\n",
       "        return new Promise(function (resolve, reject) {\r\n",
       "            setTimeout(function () {\r\n",
       "                reject(new Error('timeout'))\r\n",
       "            }, ms)\r\n",
       "            promise.then(resolve, reject)\r\n",
       "        })\r\n",
       "    }\r\n",
       "\r\n",
       "    if (Array.isArray(probingAddresses)) {\r\n",
       "        for (let i = 0; i < probingAddresses.length; i++) {\r\n",
       "\r\n",
       "            let rootUrl = probingAddresses[i];\r\n",
       "\r\n",
       "            if (!rootUrl.endsWith('/')) {\r\n",
       "                rootUrl = `${rootUrl}/`;\r\n",
       "            }\r\n",
       "\r\n",
       "            try {\r\n",
       "                let response = await timeout(1000, fetch(`${rootUrl}discovery`, {\r\n",
       "                    method: 'POST',\r\n",
       "                    cache: 'no-cache',\r\n",
       "                    mode: 'cors',\r\n",
       "                    timeout: 1000,\r\n",
       "                    headers: {\r\n",
       "                        'Content-Type': 'text/plain'\r\n",
       "                    },\r\n",
       "                    body: probingAddresses[i]\r\n",
       "                }));\r\n",
       "\r\n",
       "                if (response.status == 200) {\r\n",
       "                    return rootUrl;\r\n",
       "                }\r\n",
       "            }\r\n",
       "            catch (e) { }\r\n",
       "        }\r\n",
       "    }\r\n",
       "}\r\n",
       "\r\n",
       "function loadDotnetInteractiveApi() {\r\n",
       "    probeAddresses([\"http://192.168.0.246:1000/\", \"http://172.21.240.1:1000/\", \"http://127.0.0.1:1000/\"])\r\n",
       "        .then((root) => {\r\n",
       "        // use probing to find host url and api resources\r\n",
       "        // load interactive helpers and language services\r\n",
       "        let dotnetInteractiveRequire = require.config({\r\n",
       "        context: '13304.Microsoft.DotNet.Interactive.Http.HttpPort',\r\n",
       "                paths:\r\n",
       "            {\r\n",
       "                'dotnet-interactive': `${root}resources`\r\n",
       "                }\r\n",
       "        }) || require;\r\n",
       "\r\n",
       "            window.dotnetInteractiveRequire = dotnetInteractiveRequire;\r\n",
       "\r\n",
       "            window.configureRequireFromExtension = function(extensionName, extensionCacheBuster) {\r\n",
       "                let paths = {};\r\n",
       "                paths[extensionName] = `${root}extensions/${extensionName}/resources/`;\r\n",
       "                \r\n",
       "                let internalRequire = require.config({\r\n",
       "                    context: extensionCacheBuster,\r\n",
       "                    paths: paths,\r\n",
       "                    urlArgs: `cacheBuster=${extensionCacheBuster}`\r\n",
       "                    }) || require;\r\n",
       "\r\n",
       "                return internalRequire\r\n",
       "            };\r\n",
       "        \r\n",
       "            dotnetInteractiveRequire([\r\n",
       "                    'dotnet-interactive/dotnet-interactive'\r\n",
       "                ],\r\n",
       "                function (dotnet) {\r\n",
       "                    dotnet.init(window);\r\n",
       "                },\r\n",
       "                function (error) {\r\n",
       "                    console.log(error);\r\n",
       "                }\r\n",
       "            );\r\n",
       "        })\r\n",
       "        .catch(error => {console.log(error);});\r\n",
       "    }\r\n",
       "\r\n",
       "// ensure `require` is available globally\r\n",
       "if ((typeof(require) !==  typeof(Function)) || (typeof(require.config) !== typeof(Function))) {\r\n",
       "    let require_script = document.createElement('script');\r\n",
       "    require_script.setAttribute('src', 'https://cdnjs.cloudflare.com/ajax/libs/require.js/2.3.6/require.min.js');\r\n",
       "    require_script.setAttribute('type', 'text/javascript');\r\n",
       "    \r\n",
       "    \r\n",
       "    require_script.onload = function() {\r\n",
       "        loadDotnetInteractiveApi();\r\n",
       "    };\r\n",
       "\r\n",
       "    document.getElementsByTagName('head')[0].appendChild(require_script);\r\n",
       "}\r\n",
       "else {\r\n",
       "    loadDotnetInteractiveApi();\r\n",
       "}\r\n",
       "\r\n",
       "    </script>\r\n",
       "</div>"
      ]
     },
     "metadata": {},
     "output_type": "display_data"
    },
    {
     "data": {
      "text/html": [
       "<div><div><strong>Restore sources</strong><ul><li><span>C:\\Users\\archie\\Desktop\\MainDir\\Desktop\\CodeProjs\\CSharp\\dotnet\\polyfactor\\polyfactor\\bin\\Release</span></li></ul></div><div></div><div><strong>Installed Packages</strong><ul><li><span>polyfactor, 1.0.0</span></li></ul></div></div>"
      ]
     },
     "metadata": {},
     "output_type": "display_data"
    },
    {
     "data": {
      "text/markdown": [
       "Loading extension script from `C:\\Users\\archie\\.nuget\\packages\\polyfactor\\1.0.0\\interactive-extensions\\dotnet\\extension.dib`"
      ]
     },
     "metadata": {},
     "output_type": "display_data"
    }
   ],
   "source": [
    "#r \"nuget:polyfactor, 1.0.0\""
   ]
  },
  {
   "cell_type": "code",
   "execution_count": 2,
   "id": "db3d4446",
   "metadata": {
    "vscode": {
     "languageId": "csharp"
    }
   },
   "outputs": [],
   "source": [
    "using polyfactor;\n",
    "using polyfactor.Extensions;"
   ]
  },
  {
   "cell_type": "code",
   "execution_count": 3,
   "id": "d97beaf5",
   "metadata": {
    "vscode": {
     "languageId": "csharp"
    }
   },
   "outputs": [
    {
     "data": {
      "text/html": [
       "\r\n",
       "    <script src='https://polyfill.io/v3/polyfill.min.js?features=es6'></script>\r\n",
       "    <script id='MathJax-script' async src='https://cdn.jsdelivr.net/npm/mathjax@3/es5/tex-mml-chtml.js'></script>\r\n",
       "    \\[4\\left(x+1\\right)^{2}\\left(x+3\\right)\\left(x+4\\right)^{2}\\left({x}^{2}+2\\right)^{3}\\left({x}^{4}+2{x}^{3}+4{x}^{2}+3x+3\\right)\\]"
      ]
     },
     "execution_count": 3,
     "metadata": {},
     "output_type": "execute_result"
    }
   ],
   "source": [
    "\"4x^15+x^13+2x^11+x^10+2x^9+4x^8+2x^7+x^6+2x^5+3x^3+x^2+4x+3\".Factor(5)"
   ]
  },
  {
   "cell_type": "code",
   "execution_count": 4,
   "id": "03fa86e8",
   "metadata": {
    "vscode": {
     "languageId": "csharp"
    }
   },
   "outputs": [
    {
     "data": {
      "text/html": [
       "\r\n",
       "    <script src='https://polyfill.io/v3/polyfill.min.js?features=es6'></script>\r\n",
       "    <script id='MathJax-script' async src='https://cdn.jsdelivr.net/npm/mathjax@3/es5/tex-mml-chtml.js'></script>\r\n",
       "    \\[4\\left(x+1\\right)^{2}\\left(x+3\\right)\\left(x+4\\right)^{2}\\left({x}^{2}+2\\right)^{3}\\left({x}^{4}+2{x}^{3}+4{x}^{2}+3x+3\\right)\\]"
      ]
     },
     "execution_count": 4,
     "metadata": {},
     "output_type": "execute_result"
    }
   ],
   "source": [
    "\"4x^15+x^13+2x^11+x^10+2x^9+4x^8+2x^7+x^6+2x^5+3x^3+x^2+4x+3\".Factor(5, FactorMethod.CantorZassenhaus)"
   ]
  },
  {
   "cell_type": "code",
   "execution_count": 5,
   "id": "1df5218b",
   "metadata": {
    "vscode": {
     "languageId": "csharp"
    }
   },
   "outputs": [
    {
     "data": {
      "text/html": [
       "\r\n",
       "    <script src='https://polyfill.io/v3/polyfill.min.js?features=es6'></script>\r\n",
       "    <script id='MathJax-script' async src='https://cdn.jsdelivr.net/npm/mathjax@3/es5/tex-mml-chtml.js'></script>\r\n",
       "    \\[4\\left(\\alpha+1\\right)^{2}\\left(\\alpha+3\\right)\\left(\\alpha+4\\right)^{2}\\left({\\alpha}^{2}+2\\right)^{3}\\left({\\alpha}^{4}+2{\\alpha}^{3}+4{\\alpha}^{2}+3\\alpha+3\\right)\\]"
      ]
     },
     "execution_count": 5,
     "metadata": {},
     "output_type": "execute_result"
    }
   ],
   "source": [
    "\"4z^15+z^13+2z^11+z^10+2z^9+4z^8+2z^7+z^6+2z^5+3z^3+z^2+4z+3\".Factor(5, \"alpha\")"
   ]
  },
  {
   "cell_type": "code",
   "execution_count": 6,
   "id": "b37660a9",
   "metadata": {
    "vscode": {
     "languageId": "csharp"
    }
   },
   "outputs": [
    {
     "data": {
      "text/html": [
       "\r\n",
       "    <script src='https://polyfill.io/v3/polyfill.min.js?features=es6'></script>\r\n",
       "    <script id='MathJax-script' async src='https://cdn.jsdelivr.net/npm/mathjax@3/es5/tex-mml-chtml.js'></script>\r\n",
       "    \\[4\\left(\\gamma+1\\right)^{2}\\left(\\gamma+3\\right)\\left(\\gamma+4\\right)^{2}\\left({\\gamma}^{2}+2\\right)^{3}\\left({\\gamma}^{4}+2{\\gamma}^{3}+4{\\gamma}^{2}+3\\gamma+3\\right)\\]"
      ]
     },
     "execution_count": 6,
     "metadata": {},
     "output_type": "execute_result"
    }
   ],
   "source": [
    "\"4x^15+x^13+2x^11+x^10+2x^9+4x^8+2x^7+x^6+2x^5+3x^3+x^2+4x+3\".Factor(5, \"gamma\", FactorMethod.Berlekamp)"
   ]
  },
  {
   "cell_type": "code",
   "execution_count": 7,
   "id": "2fafe22e",
   "metadata": {
    "vscode": {
     "languageId": "csharp"
    }
   },
   "outputs": [
    {
     "data": {
      "text/html": [
       "\r\n",
       "    <script src='https://polyfill.io/v3/polyfill.min.js?features=es6'></script>\r\n",
       "    <script id='MathJax-script' async src='https://cdn.jsdelivr.net/npm/mathjax@3/es5/tex-mml-chtml.js'></script>\r\n",
       "    \\[4\\left(\\sigma+1\\right)^{2}\\left(\\sigma+3\\right)\\left(\\sigma+4\\right)^{2}\\left({\\sigma}^{2}+2\\right)^{3}\\left({\\sigma}^{4}+2{\\sigma}^{3}+4{\\sigma}^{2}+3\\sigma+3\\right)\\]"
      ]
     },
     "execution_count": 7,
     "metadata": {},
     "output_type": "execute_result"
    }
   ],
   "source": [
    "\"4x^15+x^13+2x^11+x^10+2x^9+4x^8+2x^7+x^6+2x^5+3x^3+x^2+4x+3\".Factor(5, \"sigma\", FactorMethod.KaltofenShoup, false)"
   ]
  },
  {
   "cell_type": "code",
   "execution_count": 8,
   "id": "f8b9884f",
   "metadata": {
    "vscode": {
     "languageId": "csharp"
    }
   },
   "outputs": [
    {
     "data": {
      "text/html": [
       "\r\n",
       "    <script src='https://polyfill.io/v3/polyfill.min.js?features=es6'></script>\r\n",
       "    <script id='MathJax-script' async src='https://cdn.jsdelivr.net/npm/mathjax@3/es5/tex-mml-chtml.js'></script>\r\n",
       "    \\[4\\left(\\lambda+4\\right)^{2}\\left(\\lambda+1\\right)^{2}\\left({\\lambda}^{2}+2\\right)^{3}\\left(\\lambda+3\\right)\\left({\\lambda}^{4}+2{\\lambda}^{3}+4{\\lambda}^{2}+3\\lambda+3\\right)\\]"
      ]
     },
     "execution_count": 8,
     "metadata": {},
     "output_type": "execute_result"
    }
   ],
   "source": [
    "\"4x^15+x^13+2x^11+x^10+2x^9+4x^8+2x^7+x^6+2x^5+3x^3+x^2+4x+3\".Factor(5, \"lambda\", FactorMethod.CantorZassenhaus, false, false)"
   ]
  },
  {
   "cell_type": "code",
   "execution_count": 9,
   "id": "38ad86c5",
   "metadata": {
    "vscode": {
     "languageId": "csharp"
    }
   },
   "outputs": [
    {
     "data": {
      "text/html": [
       "\r\n",
       "    <script src='https://polyfill.io/v3/polyfill.min.js?features=es6'></script>\r\n",
       "    <script id='MathJax-script' async src='https://cdn.jsdelivr.net/npm/mathjax@3/es5/tex-mml-chtml.js'></script>\r\n",
       "    \\[4\\left(\\lambda+4\\right)^{2}\\left(\\lambda+1\\right)^{2}\\left({\\lambda}^{2}+2\\right)^{3}\\left(\\lambda+3\\right)\\left({\\lambda}^{4}+2{\\lambda}^{3}+4{\\lambda}^{2}+3\\lambda+3\\right)\\]"
      ]
     },
     "execution_count": 9,
     "metadata": {},
     "output_type": "execute_result"
    }
   ],
   "source": [
    "\"4x^15+x^13+2x^11+x^10+2x^9+4x^8+2x^7+x^6+2x^5+3x^3+x^2+4x+3\".Factor(5, FactorMethod.CantorZassenhaus, \"lambda\", false, false)"
   ]
  }
 ],
 "metadata": {
  "kernelspec": {
   "display_name": ".NET (C#)",
   "language": "C#",
   "name": ".net-csharp"
  },
  "language_info": {
   "file_extension": ".cs",
   "mimetype": "text/x-csharp",
   "name": "C#",
   "pygments_lexer": "csharp",
   "version": "9.0"
  }
 },
 "nbformat": 4,
 "nbformat_minor": 5
}
